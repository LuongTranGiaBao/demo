{
 "cells": [
  {
   "cell_type": "code",
   "execution_count": 92,
   "metadata": {},
   "outputs": [],
   "source": [
    "import pandas as pd \n",
    "import seaborn as sns\n"
   ]
  },
  {
   "cell_type": "code",
   "execution_count": 93,
   "metadata": {},
   "outputs": [],
   "source": [
    "column_name = ['Id','Name','Age','Weight','m0006','m0612','m1218','f0006','f0612','f1218']"
   ]
  },
  {
   "cell_type": "code",
   "execution_count": 94,
   "metadata": {},
   "outputs": [],
   "source": [
    "df = pd.read_csv('patient_heart_rate.csv',names = column_name)"
   ]
  },
  {
   "cell_type": "code",
   "execution_count": 95,
   "metadata": {},
   "outputs": [
    {
     "data": {
      "text/html": [
       "<div>\n",
       "<style scoped>\n",
       "    .dataframe tbody tr th:only-of-type {\n",
       "        vertical-align: middle;\n",
       "    }\n",
       "\n",
       "    .dataframe tbody tr th {\n",
       "        vertical-align: top;\n",
       "    }\n",
       "\n",
       "    .dataframe thead th {\n",
       "        text-align: right;\n",
       "    }\n",
       "</style>\n",
       "<table border=\"1\" class=\"dataframe\">\n",
       "  <thead>\n",
       "    <tr style=\"text-align: right;\">\n",
       "      <th></th>\n",
       "      <th>Id</th>\n",
       "      <th>Name</th>\n",
       "      <th>Age</th>\n",
       "      <th>Weight</th>\n",
       "      <th>m0006</th>\n",
       "      <th>m0612</th>\n",
       "      <th>m1218</th>\n",
       "      <th>f0006</th>\n",
       "      <th>f0612</th>\n",
       "      <th>f1218</th>\n",
       "    </tr>\n",
       "  </thead>\n",
       "  <tbody>\n",
       "    <tr>\n",
       "      <th>0</th>\n",
       "      <td>Id</td>\n",
       "      <td>Name</td>\n",
       "      <td>Age</td>\n",
       "      <td>Weight</td>\n",
       "      <td>m0006</td>\n",
       "      <td>m0612</td>\n",
       "      <td>m1218</td>\n",
       "      <td>f0006</td>\n",
       "      <td>f0612</td>\n",
       "      <td>f1218</td>\n",
       "    </tr>\n",
       "    <tr>\n",
       "      <th>1</th>\n",
       "      <td>1</td>\n",
       "      <td>Mickéy Mousé</td>\n",
       "      <td>56</td>\n",
       "      <td>70kgs</td>\n",
       "      <td>72</td>\n",
       "      <td>69</td>\n",
       "      <td>71</td>\n",
       "      <td>-</td>\n",
       "      <td>-</td>\n",
       "      <td>-</td>\n",
       "    </tr>\n",
       "    <tr>\n",
       "      <th>2</th>\n",
       "      <td>2</td>\n",
       "      <td>Donald Duck</td>\n",
       "      <td>34</td>\n",
       "      <td>154.89lbs</td>\n",
       "      <td>-</td>\n",
       "      <td>-</td>\n",
       "      <td>-</td>\n",
       "      <td>85</td>\n",
       "      <td>84</td>\n",
       "      <td>76</td>\n",
       "    </tr>\n",
       "    <tr>\n",
       "      <th>3</th>\n",
       "      <td>3</td>\n",
       "      <td>Mini Mouse</td>\n",
       "      <td>16</td>\n",
       "      <td>NaN</td>\n",
       "      <td>-</td>\n",
       "      <td>-</td>\n",
       "      <td>-</td>\n",
       "      <td>65</td>\n",
       "      <td>69</td>\n",
       "      <td>72</td>\n",
       "    </tr>\n",
       "    <tr>\n",
       "      <th>4</th>\n",
       "      <td>4</td>\n",
       "      <td>Scrooge McDuck</td>\n",
       "      <td>NaN</td>\n",
       "      <td>78kgs</td>\n",
       "      <td>78</td>\n",
       "      <td>79</td>\n",
       "      <td>72</td>\n",
       "      <td>-</td>\n",
       "      <td>-</td>\n",
       "      <td>-</td>\n",
       "    </tr>\n",
       "  </tbody>\n",
       "</table>\n",
       "</div>"
      ],
      "text/plain": [
       "   Id            Name  Age     Weight  m0006  m0612  m1218  f0006  f0612  \\\n",
       "0  Id            Name  Age     Weight  m0006  m0612  m1218  f0006  f0612   \n",
       "1   1    Mickéy Mousé   56      70kgs     72     69     71      -      -   \n",
       "2   2     Donald Duck   34  154.89lbs      -      -      -     85     84   \n",
       "3   3      Mini Mouse   16        NaN      -      -      -     65     69   \n",
       "4   4  Scrooge McDuck  NaN      78kgs     78     79     72      -      -   \n",
       "\n",
       "   f1218  \n",
       "0  f1218  \n",
       "1      -  \n",
       "2     76  \n",
       "3     72  \n",
       "4      -  "
      ]
     },
     "execution_count": 95,
     "metadata": {},
     "output_type": "execute_result"
    }
   ],
   "source": [
    "df.head(5)"
   ]
  },
  {
   "cell_type": "code",
   "execution_count": 96,
   "metadata": {},
   "outputs": [],
   "source": [
    "df[['Firstname','Lastname']] = df['Name'].str.split(expand=True)\n",
    "df = df.drop(\"Name\", axis=1)"
   ]
  },
  {
   "cell_type": "code",
   "execution_count": 97,
   "metadata": {},
   "outputs": [
    {
     "data": {
      "text/html": [
       "<div>\n",
       "<style scoped>\n",
       "    .dataframe tbody tr th:only-of-type {\n",
       "        vertical-align: middle;\n",
       "    }\n",
       "\n",
       "    .dataframe tbody tr th {\n",
       "        vertical-align: top;\n",
       "    }\n",
       "\n",
       "    .dataframe thead th {\n",
       "        text-align: right;\n",
       "    }\n",
       "</style>\n",
       "<table border=\"1\" class=\"dataframe\">\n",
       "  <thead>\n",
       "    <tr style=\"text-align: right;\">\n",
       "      <th></th>\n",
       "      <th>Id</th>\n",
       "      <th>Age</th>\n",
       "      <th>Weight</th>\n",
       "      <th>m0006</th>\n",
       "      <th>m0612</th>\n",
       "      <th>m1218</th>\n",
       "      <th>f0006</th>\n",
       "      <th>f0612</th>\n",
       "      <th>f1218</th>\n",
       "      <th>Firstname</th>\n",
       "      <th>Lastname</th>\n",
       "    </tr>\n",
       "  </thead>\n",
       "  <tbody>\n",
       "    <tr>\n",
       "      <th>0</th>\n",
       "      <td>Id</td>\n",
       "      <td>Age</td>\n",
       "      <td>Weight</td>\n",
       "      <td>m0006</td>\n",
       "      <td>m0612</td>\n",
       "      <td>m1218</td>\n",
       "      <td>f0006</td>\n",
       "      <td>f0612</td>\n",
       "      <td>f1218</td>\n",
       "      <td>Name</td>\n",
       "      <td>None</td>\n",
       "    </tr>\n",
       "    <tr>\n",
       "      <th>1</th>\n",
       "      <td>1</td>\n",
       "      <td>56</td>\n",
       "      <td>70kgs</td>\n",
       "      <td>72</td>\n",
       "      <td>69</td>\n",
       "      <td>71</td>\n",
       "      <td>-</td>\n",
       "      <td>-</td>\n",
       "      <td>-</td>\n",
       "      <td>Mickéy</td>\n",
       "      <td>Mousé</td>\n",
       "    </tr>\n",
       "    <tr>\n",
       "      <th>2</th>\n",
       "      <td>2</td>\n",
       "      <td>34</td>\n",
       "      <td>154.89lbs</td>\n",
       "      <td>-</td>\n",
       "      <td>-</td>\n",
       "      <td>-</td>\n",
       "      <td>85</td>\n",
       "      <td>84</td>\n",
       "      <td>76</td>\n",
       "      <td>Donald</td>\n",
       "      <td>Duck</td>\n",
       "    </tr>\n",
       "    <tr>\n",
       "      <th>3</th>\n",
       "      <td>3</td>\n",
       "      <td>16</td>\n",
       "      <td>NaN</td>\n",
       "      <td>-</td>\n",
       "      <td>-</td>\n",
       "      <td>-</td>\n",
       "      <td>65</td>\n",
       "      <td>69</td>\n",
       "      <td>72</td>\n",
       "      <td>Mini</td>\n",
       "      <td>Mouse</td>\n",
       "    </tr>\n",
       "    <tr>\n",
       "      <th>4</th>\n",
       "      <td>4</td>\n",
       "      <td>NaN</td>\n",
       "      <td>78kgs</td>\n",
       "      <td>78</td>\n",
       "      <td>79</td>\n",
       "      <td>72</td>\n",
       "      <td>-</td>\n",
       "      <td>-</td>\n",
       "      <td>-</td>\n",
       "      <td>Scrooge</td>\n",
       "      <td>McDuck</td>\n",
       "    </tr>\n",
       "  </tbody>\n",
       "</table>\n",
       "</div>"
      ],
      "text/plain": [
       "   Id  Age     Weight  m0006  m0612  m1218  f0006  f0612  f1218 Firstname  \\\n",
       "0  Id  Age     Weight  m0006  m0612  m1218  f0006  f0612  f1218      Name   \n",
       "1   1   56      70kgs     72     69     71      -      -      -    Mickéy   \n",
       "2   2   34  154.89lbs      -      -      -     85     84     76    Donald   \n",
       "3   3   16        NaN      -      -      -     65     69     72      Mini   \n",
       "4   4  NaN      78kgs     78     79     72      -      -      -   Scrooge   \n",
       "\n",
       "  Lastname  \n",
       "0     None  \n",
       "1    Mousé  \n",
       "2     Duck  \n",
       "3    Mouse  \n",
       "4   McDuck  "
      ]
     },
     "execution_count": 97,
     "metadata": {},
     "output_type": "execute_result"
    }
   ],
   "source": [
    "df.head(5)"
   ]
  },
  {
   "cell_type": "code",
   "execution_count": 98,
   "metadata": {},
   "outputs": [],
   "source": [
    "weight = df['Weight']\n",
    "for i in range(0, len(weight)):\n",
    "     x = str(weight[i])\n",
    "     if 'lbs' in x[-3:]:\n",
    "         x = x[:-3:]\n",
    "         float_x = float(x)\n",
    "         y= int (float_x/2.2)\n",
    "         #y = str(y)\n",
    "         weight[i]= y\n",
    "     if 'kgs' in x[-3:]:\n",
    "         x= x[:-3:]\n",
    "         float_x = float(x)\n",
    "         weight[i] = x    "
   ]
  },
  {
   "cell_type": "code",
   "execution_count": 99,
   "metadata": {},
   "outputs": [],
   "source": [
    "df.rename(columns={'Weight':'Weight_kgs'},inplace=True)"
   ]
  },
  {
   "cell_type": "code",
   "execution_count": 100,
   "metadata": {},
   "outputs": [
    {
     "data": {
      "text/html": [
       "<div>\n",
       "<style scoped>\n",
       "    .dataframe tbody tr th:only-of-type {\n",
       "        vertical-align: middle;\n",
       "    }\n",
       "\n",
       "    .dataframe tbody tr th {\n",
       "        vertical-align: top;\n",
       "    }\n",
       "\n",
       "    .dataframe thead th {\n",
       "        text-align: right;\n",
       "    }\n",
       "</style>\n",
       "<table border=\"1\" class=\"dataframe\">\n",
       "  <thead>\n",
       "    <tr style=\"text-align: right;\">\n",
       "      <th></th>\n",
       "      <th>Id</th>\n",
       "      <th>Age</th>\n",
       "      <th>Weight_kgs</th>\n",
       "      <th>m0006</th>\n",
       "      <th>m0612</th>\n",
       "      <th>m1218</th>\n",
       "      <th>f0006</th>\n",
       "      <th>f0612</th>\n",
       "      <th>f1218</th>\n",
       "      <th>Firstname</th>\n",
       "      <th>Lastname</th>\n",
       "    </tr>\n",
       "  </thead>\n",
       "  <tbody>\n",
       "    <tr>\n",
       "      <th>0</th>\n",
       "      <td>Id</td>\n",
       "      <td>Age</td>\n",
       "      <td>Weight</td>\n",
       "      <td>m0006</td>\n",
       "      <td>m0612</td>\n",
       "      <td>m1218</td>\n",
       "      <td>f0006</td>\n",
       "      <td>f0612</td>\n",
       "      <td>f1218</td>\n",
       "      <td>Name</td>\n",
       "      <td>None</td>\n",
       "    </tr>\n",
       "    <tr>\n",
       "      <th>1</th>\n",
       "      <td>1</td>\n",
       "      <td>56</td>\n",
       "      <td>70</td>\n",
       "      <td>72</td>\n",
       "      <td>69</td>\n",
       "      <td>71</td>\n",
       "      <td>-</td>\n",
       "      <td>-</td>\n",
       "      <td>-</td>\n",
       "      <td>Mickéy</td>\n",
       "      <td>Mousé</td>\n",
       "    </tr>\n",
       "    <tr>\n",
       "      <th>2</th>\n",
       "      <td>2</td>\n",
       "      <td>34</td>\n",
       "      <td>70</td>\n",
       "      <td>-</td>\n",
       "      <td>-</td>\n",
       "      <td>-</td>\n",
       "      <td>85</td>\n",
       "      <td>84</td>\n",
       "      <td>76</td>\n",
       "      <td>Donald</td>\n",
       "      <td>Duck</td>\n",
       "    </tr>\n",
       "    <tr>\n",
       "      <th>3</th>\n",
       "      <td>3</td>\n",
       "      <td>16</td>\n",
       "      <td>NaN</td>\n",
       "      <td>-</td>\n",
       "      <td>-</td>\n",
       "      <td>-</td>\n",
       "      <td>65</td>\n",
       "      <td>69</td>\n",
       "      <td>72</td>\n",
       "      <td>Mini</td>\n",
       "      <td>Mouse</td>\n",
       "    </tr>\n",
       "    <tr>\n",
       "      <th>4</th>\n",
       "      <td>4</td>\n",
       "      <td>NaN</td>\n",
       "      <td>78</td>\n",
       "      <td>78</td>\n",
       "      <td>79</td>\n",
       "      <td>72</td>\n",
       "      <td>-</td>\n",
       "      <td>-</td>\n",
       "      <td>-</td>\n",
       "      <td>Scrooge</td>\n",
       "      <td>McDuck</td>\n",
       "    </tr>\n",
       "  </tbody>\n",
       "</table>\n",
       "</div>"
      ],
      "text/plain": [
       "   Id  Age Weight_kgs  m0006  m0612  m1218  f0006  f0612  f1218 Firstname  \\\n",
       "0  Id  Age     Weight  m0006  m0612  m1218  f0006  f0612  f1218      Name   \n",
       "1   1   56         70     72     69     71      -      -      -    Mickéy   \n",
       "2   2   34         70      -      -      -     85     84     76    Donald   \n",
       "3   3   16        NaN      -      -      -     65     69     72      Mini   \n",
       "4   4  NaN         78     78     79     72      -      -      -   Scrooge   \n",
       "\n",
       "  Lastname  \n",
       "0     None  \n",
       "1    Mousé  \n",
       "2     Duck  \n",
       "3    Mouse  \n",
       "4   McDuck  "
      ]
     },
     "execution_count": 100,
     "metadata": {},
     "output_type": "execute_result"
    }
   ],
   "source": [
    "df.head(5)"
   ]
  },
  {
   "cell_type": "code",
   "execution_count": 101,
   "metadata": {},
   "outputs": [],
   "source": [
    "df.dropna(how='all', inplace=True)"
   ]
  },
  {
   "cell_type": "code",
   "execution_count": 102,
   "metadata": {},
   "outputs": [],
   "source": [
    "df = df.drop_duplicates(subset = ['Firstname','Lastname','Age','Weight_kgs'])"
   ]
  },
  {
   "cell_type": "code",
   "execution_count": 103,
   "metadata": {},
   "outputs": [
    {
     "name": "stdout",
     "output_type": "stream",
     "text": [
      "    Id  Age Weight_kgs  m0006  m0612  m1218  f0006  f0612  f1218 Firstname  \\\n",
      "0   Id  Age     Weight  m0006  m0612  m1218  f0006  f0612  f1218      Name   \n",
      "1    1   56         70     72     69     71      -      -      -     Micky   \n",
      "2    2   34         70      -      -      -     85     84     76    Donald   \n",
      "3    3   16        NaN      -      -      -     65     69     72      Mini   \n",
      "4    4  NaN         78     78     79     72      -      -      -   Scrooge   \n",
      "5    5   54         90      -      -      -     69    NaN     75      Pink   \n",
      "6    6   52         85      -      -      -     68     75     72      Huey   \n",
      "7    7   19         56      -      -      -     71     78     75     Dewey   \n",
      "8    8   32         78     78     76     75      -      -      -      Scpy   \n",
      "12  10   12         45      -      -      -     92     95     87     Louie   \n",
      "13  11  NaN         60     78     75     72      -      -      -     Henry   \n",
      "14  12   34        NaN     65     67     55      -      -      -    Michel   \n",
      "15  13  NaN        NaN      -      -      -     68     72     70      Tana   \n",
      "16  14  NaN        NaN    NaN    NaN    NaN    NaN    NaN    NaN  UniLever   \n",
      "17  15   52         81      -      -      -     68     75     72       NaN   \n",
      "\n",
      "   Lastname  \n",
      "0      None  \n",
      "1      Mous  \n",
      "2      Duck  \n",
      "3     Mouse  \n",
      "4    McDuck  \n",
      "5   Panther  \n",
      "6    McDuck  \n",
      "7    McDuck  \n",
      "8       Doo  \n",
      "12   McDuck  \n",
      "13      Nam  \n",
      "14     Long  \n",
      "15    Ricky  \n",
      "16     None  \n",
      "17      NaN  \n"
     ]
    }
   ],
   "source": [
    "df.Firstname.replace({r'[^\\x00-\\x7F]+':''},regex=True,inplace=True)\n",
    "df.Lastname.replace({r'[^\\x00-\\x7F]+':''},regex=True,inplace=True)\n",
    "print(df)"
   ]
  },
  {
   "cell_type": "code",
   "execution_count": 104,
   "metadata": {},
   "outputs": [],
   "source": [
    "df['Age'].fillna(df['Age'].mode()[0], inplace=True)"
   ]
  },
  {
   "cell_type": "code",
   "execution_count": 105,
   "metadata": {},
   "outputs": [
    {
     "name": "stdout",
     "output_type": "stream",
     "text": [
      "object\n"
     ]
    }
   ],
   "source": [
    "print(df['Weight_kgs'].dtype)\n"
   ]
  },
  {
   "cell_type": "code",
   "execution_count": 106,
   "metadata": {},
   "outputs": [
    {
     "name": "stdout",
     "output_type": "stream",
     "text": [
      "    Id  Age Weight_kgs  m0006  m0612  m1218  f0006  f0612  f1218 Firstname  \\\n",
      "0   Id  Age     Weight  m0006  m0612  m1218  f0006  f0612  f1218      Name   \n",
      "1    1   56         70     72     69     71      -      -      -     Micky   \n",
      "4    4   34         78     78     79     72      -      -      -   Scrooge   \n",
      "7    7   19         56      -      -      -     71     78     75     Dewey   \n",
      "8    8   32         78     78     76     75      -      -      -      Scpy   \n",
      "12  10   12         45      -      -      -     92     95     87     Louie   \n",
      "13  11   34         60     78     75     72      -      -      -     Henry   \n",
      "\n",
      "   Lastname  \n",
      "0      None  \n",
      "1      Mous  \n",
      "4    McDuck  \n",
      "7    McDuck  \n",
      "8       Doo  \n",
      "12   McDuck  \n",
      "13      Nam  \n"
     ]
    }
   ],
   "source": [
    "non_numeric_values = df[~df['Weight_kgs'].apply(lambda x: isinstance(x, (int, float)))]\n",
    "print(non_numeric_values)"
   ]
  },
  {
   "cell_type": "code",
   "execution_count": 107,
   "metadata": {},
   "outputs": [
    {
     "name": "stdout",
     "output_type": "stream",
     "text": [
      "float64\n"
     ]
    }
   ],
   "source": [
    "df['Weight_kgs'] = pd.to_numeric(df['Weight_kgs'], errors='coerce')\n",
    "\n",
    "# Kiểm tra lại kiểu dữ liệu\n",
    "print(df['Weight_kgs'].dtype)"
   ]
  },
  {
   "cell_type": "code",
   "execution_count": 108,
   "metadata": {},
   "outputs": [],
   "source": [
    "median_weight = df['Weight_kgs'].median()\n",
    "df['Weight_kgs'].fillna(median_weight, inplace=True)"
   ]
  },
  {
   "cell_type": "code",
   "execution_count": 109,
   "metadata": {},
   "outputs": [],
   "source": [
    "df['Weight_kgs'].fillna(df['Weight_kgs'].median(), inplace=True)"
   ]
  },
  {
   "cell_type": "code",
   "execution_count": 110,
   "metadata": {},
   "outputs": [],
   "source": [
    "df = pd.melt(df, id_vars=['Id','Age','Weight_kgs','Firstname','Lastname'], value_name='PulseRate', var_name='gender_time').sort_values(['Id','Age','Weight_kgs','Firstname','Lastname'])"
   ]
  },
  {
   "cell_type": "code",
   "execution_count": 111,
   "metadata": {},
   "outputs": [],
   "source": [
    "df_temp = df['gender_time'].str.extract(\"(\\D)(\\d+)(\\d{2})\", expand=True)"
   ]
  },
  {
   "cell_type": "code",
   "execution_count": 112,
   "metadata": {},
   "outputs": [],
   "source": [
    "df_temp.columns = ['Gender','Lower_hour','Upper_hour']"
   ]
  },
  {
   "cell_type": "code",
   "execution_count": 113,
   "metadata": {},
   "outputs": [],
   "source": [
    "df = pd.concat([df,df_temp], axis=1)"
   ]
  },
  {
   "cell_type": "code",
   "execution_count": 114,
   "metadata": {},
   "outputs": [],
   "source": [
    "df = df.drop(['gender_time'], axis=1)"
   ]
  },
  {
   "cell_type": "code",
   "execution_count": 115,
   "metadata": {},
   "outputs": [],
   "source": [
    "import numpy as np"
   ]
  },
  {
   "cell_type": "code",
   "execution_count": 116,
   "metadata": {},
   "outputs": [
    {
     "data": {
      "text/html": [
       "<div>\n",
       "<style scoped>\n",
       "    .dataframe tbody tr th:only-of-type {\n",
       "        vertical-align: middle;\n",
       "    }\n",
       "\n",
       "    .dataframe tbody tr th {\n",
       "        vertical-align: top;\n",
       "    }\n",
       "\n",
       "    .dataframe thead th {\n",
       "        text-align: right;\n",
       "    }\n",
       "</style>\n",
       "<table border=\"1\" class=\"dataframe\">\n",
       "  <thead>\n",
       "    <tr style=\"text-align: right;\">\n",
       "      <th></th>\n",
       "      <th>Id</th>\n",
       "      <th>Age</th>\n",
       "      <th>Weight_kgs</th>\n",
       "      <th>Firstname</th>\n",
       "      <th>Lastname</th>\n",
       "      <th>PulseRate</th>\n",
       "      <th>Gender</th>\n",
       "      <th>Lower_hour</th>\n",
       "      <th>Upper_hour</th>\n",
       "    </tr>\n",
       "  </thead>\n",
       "  <tbody>\n",
       "    <tr>\n",
       "      <th>1</th>\n",
       "      <td>1</td>\n",
       "      <td>56</td>\n",
       "      <td>70.0</td>\n",
       "      <td>Micky</td>\n",
       "      <td>Mous</td>\n",
       "      <td>72</td>\n",
       "      <td>m</td>\n",
       "      <td>00</td>\n",
       "      <td>06</td>\n",
       "    </tr>\n",
       "    <tr>\n",
       "      <th>16</th>\n",
       "      <td>1</td>\n",
       "      <td>56</td>\n",
       "      <td>70.0</td>\n",
       "      <td>Micky</td>\n",
       "      <td>Mous</td>\n",
       "      <td>69</td>\n",
       "      <td>m</td>\n",
       "      <td>06</td>\n",
       "      <td>12</td>\n",
       "    </tr>\n",
       "    <tr>\n",
       "      <th>31</th>\n",
       "      <td>1</td>\n",
       "      <td>56</td>\n",
       "      <td>70.0</td>\n",
       "      <td>Micky</td>\n",
       "      <td>Mous</td>\n",
       "      <td>71</td>\n",
       "      <td>m</td>\n",
       "      <td>12</td>\n",
       "      <td>18</td>\n",
       "    </tr>\n",
       "    <tr>\n",
       "      <th>54</th>\n",
       "      <td>10</td>\n",
       "      <td>12</td>\n",
       "      <td>45.0</td>\n",
       "      <td>Louie</td>\n",
       "      <td>McDuck</td>\n",
       "      <td>92</td>\n",
       "      <td>f</td>\n",
       "      <td>00</td>\n",
       "      <td>06</td>\n",
       "    </tr>\n",
       "    <tr>\n",
       "      <th>69</th>\n",
       "      <td>10</td>\n",
       "      <td>12</td>\n",
       "      <td>45.0</td>\n",
       "      <td>Louie</td>\n",
       "      <td>McDuck</td>\n",
       "      <td>95</td>\n",
       "      <td>f</td>\n",
       "      <td>06</td>\n",
       "      <td>12</td>\n",
       "    </tr>\n",
       "    <tr>\n",
       "      <th>84</th>\n",
       "      <td>10</td>\n",
       "      <td>12</td>\n",
       "      <td>45.0</td>\n",
       "      <td>Louie</td>\n",
       "      <td>McDuck</td>\n",
       "      <td>87</td>\n",
       "      <td>f</td>\n",
       "      <td>12</td>\n",
       "      <td>18</td>\n",
       "    </tr>\n",
       "    <tr>\n",
       "      <th>10</th>\n",
       "      <td>11</td>\n",
       "      <td>34</td>\n",
       "      <td>60.0</td>\n",
       "      <td>Henry</td>\n",
       "      <td>Nam</td>\n",
       "      <td>78</td>\n",
       "      <td>m</td>\n",
       "      <td>00</td>\n",
       "      <td>06</td>\n",
       "    </tr>\n",
       "    <tr>\n",
       "      <th>25</th>\n",
       "      <td>11</td>\n",
       "      <td>34</td>\n",
       "      <td>60.0</td>\n",
       "      <td>Henry</td>\n",
       "      <td>Nam</td>\n",
       "      <td>75</td>\n",
       "      <td>m</td>\n",
       "      <td>06</td>\n",
       "      <td>12</td>\n",
       "    </tr>\n",
       "    <tr>\n",
       "      <th>40</th>\n",
       "      <td>11</td>\n",
       "      <td>34</td>\n",
       "      <td>60.0</td>\n",
       "      <td>Henry</td>\n",
       "      <td>Nam</td>\n",
       "      <td>72</td>\n",
       "      <td>m</td>\n",
       "      <td>12</td>\n",
       "      <td>18</td>\n",
       "    </tr>\n",
       "    <tr>\n",
       "      <th>11</th>\n",
       "      <td>12</td>\n",
       "      <td>34</td>\n",
       "      <td>74.0</td>\n",
       "      <td>Michel</td>\n",
       "      <td>Long</td>\n",
       "      <td>65</td>\n",
       "      <td>m</td>\n",
       "      <td>00</td>\n",
       "      <td>06</td>\n",
       "    </tr>\n",
       "  </tbody>\n",
       "</table>\n",
       "</div>"
      ],
      "text/plain": [
       "    Id Age  Weight_kgs Firstname Lastname PulseRate Gender Lower_hour  \\\n",
       "1    1  56        70.0     Micky     Mous        72      m         00   \n",
       "16   1  56        70.0     Micky     Mous        69      m         06   \n",
       "31   1  56        70.0     Micky     Mous        71      m         12   \n",
       "54  10  12        45.0     Louie   McDuck        92      f         00   \n",
       "69  10  12        45.0     Louie   McDuck        95      f         06   \n",
       "84  10  12        45.0     Louie   McDuck        87      f         12   \n",
       "10  11  34        60.0     Henry      Nam        78      m         00   \n",
       "25  11  34        60.0     Henry      Nam        75      m         06   \n",
       "40  11  34        60.0     Henry      Nam        72      m         12   \n",
       "11  12  34        74.0    Michel     Long        65      m         00   \n",
       "\n",
       "   Upper_hour  \n",
       "1          06  \n",
       "16         12  \n",
       "31         18  \n",
       "54         06  \n",
       "69         12  \n",
       "84         18  \n",
       "10         06  \n",
       "25         12  \n",
       "40         18  \n",
       "11         06  "
      ]
     },
     "execution_count": 116,
     "metadata": {},
     "output_type": "execute_result"
    }
   ],
   "source": [
    "df = df.replace('-', np.nan).dropna(subset=['PulseRate'])\n",
    "df.head(10)"
   ]
  },
  {
   "cell_type": "code",
   "execution_count": 117,
   "metadata": {},
   "outputs": [
    {
     "data": {
      "text/plain": [
       "3"
      ]
     },
     "execution_count": 117,
     "metadata": {},
     "output_type": "execute_result"
    }
   ],
   "source": [
    "df['Firstname'].isnull().sum()"
   ]
  },
  {
   "cell_type": "code",
   "execution_count": 118,
   "metadata": {},
   "outputs": [
    {
     "data": {
      "text/plain": [
       "9"
      ]
     },
     "execution_count": 118,
     "metadata": {},
     "output_type": "execute_result"
    }
   ],
   "source": [
    "df['Lastname'].isnull().sum()"
   ]
  },
  {
   "cell_type": "code",
   "execution_count": 119,
   "metadata": {},
   "outputs": [],
   "source": [
    "df['Firstname'].fillna('Unknown', inplace=True)"
   ]
  },
  {
   "cell_type": "code",
   "execution_count": 120,
   "metadata": {},
   "outputs": [],
   "source": [
    "df['Lastname'].fillna('Unknown', inplace=True)"
   ]
  },
  {
   "cell_type": "code",
   "execution_count": 121,
   "metadata": {},
   "outputs": [],
   "source": [
    "df = df.reset_index()"
   ]
  },
  {
   "cell_type": "code",
   "execution_count": 122,
   "metadata": {},
   "outputs": [],
   "source": [
    "df.to_csv('patient_heart_rate_clean.csv')"
   ]
  },
  {
   "cell_type": "code",
   "execution_count": 123,
   "metadata": {},
   "outputs": [],
   "source": [
    "df = pd.read_csv(\"patient_heart_rate_clean.csv\")"
   ]
  },
  {
   "cell_type": "code",
   "execution_count": 124,
   "metadata": {},
   "outputs": [],
   "source": [
    "duplicates = df[df.duplicated(subset='Id', keep=False)]"
   ]
  },
  {
   "cell_type": "code",
   "execution_count": 125,
   "metadata": {},
   "outputs": [
    {
     "data": {
      "text/html": [
       "<div>\n",
       "<style scoped>\n",
       "    .dataframe tbody tr th:only-of-type {\n",
       "        vertical-align: middle;\n",
       "    }\n",
       "\n",
       "    .dataframe tbody tr th {\n",
       "        vertical-align: top;\n",
       "    }\n",
       "\n",
       "    .dataframe thead th {\n",
       "        text-align: right;\n",
       "    }\n",
       "</style>\n",
       "<table border=\"1\" class=\"dataframe\">\n",
       "  <thead>\n",
       "    <tr style=\"text-align: right;\">\n",
       "      <th></th>\n",
       "      <th>Unnamed: 0</th>\n",
       "      <th>index</th>\n",
       "      <th>Id</th>\n",
       "      <th>Age</th>\n",
       "      <th>Weight_kgs</th>\n",
       "      <th>Firstname</th>\n",
       "      <th>Lastname</th>\n",
       "      <th>PulseRate</th>\n",
       "      <th>Gender</th>\n",
       "      <th>Lower_hour</th>\n",
       "      <th>Upper_hour</th>\n",
       "    </tr>\n",
       "  </thead>\n",
       "  <tbody>\n",
       "    <tr>\n",
       "      <th>0</th>\n",
       "      <td>0</td>\n",
       "      <td>1</td>\n",
       "      <td>1</td>\n",
       "      <td>56</td>\n",
       "      <td>70.0</td>\n",
       "      <td>Micky</td>\n",
       "      <td>Mous</td>\n",
       "      <td>72</td>\n",
       "      <td>m</td>\n",
       "      <td>0</td>\n",
       "      <td>6</td>\n",
       "    </tr>\n",
       "    <tr>\n",
       "      <th>1</th>\n",
       "      <td>1</td>\n",
       "      <td>16</td>\n",
       "      <td>1</td>\n",
       "      <td>56</td>\n",
       "      <td>70.0</td>\n",
       "      <td>Micky</td>\n",
       "      <td>Mous</td>\n",
       "      <td>69</td>\n",
       "      <td>m</td>\n",
       "      <td>6</td>\n",
       "      <td>12</td>\n",
       "    </tr>\n",
       "    <tr>\n",
       "      <th>2</th>\n",
       "      <td>2</td>\n",
       "      <td>31</td>\n",
       "      <td>1</td>\n",
       "      <td>56</td>\n",
       "      <td>70.0</td>\n",
       "      <td>Micky</td>\n",
       "      <td>Mous</td>\n",
       "      <td>71</td>\n",
       "      <td>m</td>\n",
       "      <td>12</td>\n",
       "      <td>18</td>\n",
       "    </tr>\n",
       "    <tr>\n",
       "      <th>3</th>\n",
       "      <td>3</td>\n",
       "      <td>54</td>\n",
       "      <td>10</td>\n",
       "      <td>12</td>\n",
       "      <td>45.0</td>\n",
       "      <td>Louie</td>\n",
       "      <td>McDuck</td>\n",
       "      <td>92</td>\n",
       "      <td>f</td>\n",
       "      <td>0</td>\n",
       "      <td>6</td>\n",
       "    </tr>\n",
       "    <tr>\n",
       "      <th>4</th>\n",
       "      <td>4</td>\n",
       "      <td>69</td>\n",
       "      <td>10</td>\n",
       "      <td>12</td>\n",
       "      <td>45.0</td>\n",
       "      <td>Louie</td>\n",
       "      <td>McDuck</td>\n",
       "      <td>95</td>\n",
       "      <td>f</td>\n",
       "      <td>6</td>\n",
       "      <td>12</td>\n",
       "    </tr>\n",
       "  </tbody>\n",
       "</table>\n",
       "</div>"
      ],
      "text/plain": [
       "   Unnamed: 0  index  Id Age  Weight_kgs Firstname Lastname PulseRate Gender  \\\n",
       "0           0      1   1  56        70.0     Micky     Mous        72      m   \n",
       "1           1     16   1  56        70.0     Micky     Mous        69      m   \n",
       "2           2     31   1  56        70.0     Micky     Mous        71      m   \n",
       "3           3     54  10  12        45.0     Louie   McDuck        92      f   \n",
       "4           4     69  10  12        45.0     Louie   McDuck        95      f   \n",
       "\n",
       "   Lower_hour  Upper_hour  \n",
       "0           0           6  \n",
       "1           6          12  \n",
       "2          12          18  \n",
       "3           0           6  \n",
       "4           6          12  "
      ]
     },
     "execution_count": 125,
     "metadata": {},
     "output_type": "execute_result"
    }
   ],
   "source": [
    "# Cau 1: Vẽ biểu đồ Pie để thể hiện tỉ lệ bệnh nhân nam và nữ\n",
    "df.head(5)"
   ]
  },
  {
   "cell_type": "code",
   "execution_count": 126,
   "metadata": {},
   "outputs": [
    {
     "data": {
      "text/html": [
       "<div>\n",
       "<style scoped>\n",
       "    .dataframe tbody tr th:only-of-type {\n",
       "        vertical-align: middle;\n",
       "    }\n",
       "\n",
       "    .dataframe tbody tr th {\n",
       "        vertical-align: top;\n",
       "    }\n",
       "\n",
       "    .dataframe thead th {\n",
       "        text-align: right;\n",
       "    }\n",
       "</style>\n",
       "<table border=\"1\" class=\"dataframe\">\n",
       "  <thead>\n",
       "    <tr style=\"text-align: right;\">\n",
       "      <th></th>\n",
       "      <th>Unnamed: 0</th>\n",
       "      <th>index</th>\n",
       "      <th>Id</th>\n",
       "      <th>Age</th>\n",
       "      <th>Weight_kgs</th>\n",
       "      <th>Firstname</th>\n",
       "      <th>Lastname</th>\n",
       "      <th>PulseRate</th>\n",
       "      <th>Gender</th>\n",
       "      <th>Lower_hour</th>\n",
       "      <th>Upper_hour</th>\n",
       "    </tr>\n",
       "  </thead>\n",
       "  <tbody>\n",
       "    <tr>\n",
       "      <th>0</th>\n",
       "      <td>0</td>\n",
       "      <td>1</td>\n",
       "      <td>1</td>\n",
       "      <td>56</td>\n",
       "      <td>70.0</td>\n",
       "      <td>Micky</td>\n",
       "      <td>Mous</td>\n",
       "      <td>72</td>\n",
       "      <td>m</td>\n",
       "      <td>0</td>\n",
       "      <td>6</td>\n",
       "    </tr>\n",
       "    <tr>\n",
       "      <th>1</th>\n",
       "      <td>1</td>\n",
       "      <td>16</td>\n",
       "      <td>1</td>\n",
       "      <td>56</td>\n",
       "      <td>70.0</td>\n",
       "      <td>Micky</td>\n",
       "      <td>Mous</td>\n",
       "      <td>69</td>\n",
       "      <td>m</td>\n",
       "      <td>6</td>\n",
       "      <td>12</td>\n",
       "    </tr>\n",
       "    <tr>\n",
       "      <th>2</th>\n",
       "      <td>2</td>\n",
       "      <td>31</td>\n",
       "      <td>1</td>\n",
       "      <td>56</td>\n",
       "      <td>70.0</td>\n",
       "      <td>Micky</td>\n",
       "      <td>Mous</td>\n",
       "      <td>71</td>\n",
       "      <td>m</td>\n",
       "      <td>12</td>\n",
       "      <td>18</td>\n",
       "    </tr>\n",
       "    <tr>\n",
       "      <th>3</th>\n",
       "      <td>3</td>\n",
       "      <td>54</td>\n",
       "      <td>10</td>\n",
       "      <td>12</td>\n",
       "      <td>45.0</td>\n",
       "      <td>Louie</td>\n",
       "      <td>McDuck</td>\n",
       "      <td>92</td>\n",
       "      <td>f</td>\n",
       "      <td>0</td>\n",
       "      <td>6</td>\n",
       "    </tr>\n",
       "    <tr>\n",
       "      <th>4</th>\n",
       "      <td>4</td>\n",
       "      <td>69</td>\n",
       "      <td>10</td>\n",
       "      <td>12</td>\n",
       "      <td>45.0</td>\n",
       "      <td>Louie</td>\n",
       "      <td>McDuck</td>\n",
       "      <td>95</td>\n",
       "      <td>f</td>\n",
       "      <td>6</td>\n",
       "      <td>12</td>\n",
       "    </tr>\n",
       "  </tbody>\n",
       "</table>\n",
       "</div>"
      ],
      "text/plain": [
       "   Unnamed: 0  index  Id Age  Weight_kgs Firstname Lastname PulseRate Gender  \\\n",
       "0           0      1   1  56        70.0     Micky     Mous        72      m   \n",
       "1           1     16   1  56        70.0     Micky     Mous        69      m   \n",
       "2           2     31   1  56        70.0     Micky     Mous        71      m   \n",
       "3           3     54  10  12        45.0     Louie   McDuck        92      f   \n",
       "4           4     69  10  12        45.0     Louie   McDuck        95      f   \n",
       "\n",
       "   Lower_hour  Upper_hour  \n",
       "0           0           6  \n",
       "1           6          12  \n",
       "2          12          18  \n",
       "3           0           6  \n",
       "4           6          12  "
      ]
     },
     "execution_count": 126,
     "metadata": {},
     "output_type": "execute_result"
    }
   ],
   "source": [
    "df = pd.read_csv('patient_heart_rate_clean.csv')\n",
    "df.head(5)"
   ]
  },
  {
   "cell_type": "code",
   "execution_count": 127,
   "metadata": {},
   "outputs": [],
   "source": [
    "gender_counts = df['Gender'].value_counts()"
   ]
  },
  {
   "cell_type": "code",
   "execution_count": 128,
   "metadata": {},
   "outputs": [],
   "source": [
    "duplicates = df[df.duplicated(subset='Id', keep=False)]"
   ]
  },
  {
   "cell_type": "code",
   "execution_count": 129,
   "metadata": {},
   "outputs": [
    {
     "name": "stdout",
     "output_type": "stream",
     "text": [
      "Duplicate rows based on 'Id':\n",
      "    Unnamed: 0  index  Id  Age  Weight_kgs Firstname Lastname PulseRate  \\\n",
      "0            0      1   1   56        70.0     Micky     Mous        72   \n",
      "1            1     16   1   56        70.0     Micky     Mous        69   \n",
      "2            2     31   1   56        70.0     Micky     Mous        71   \n",
      "3            3     54  10   12        45.0     Louie   McDuck        92   \n",
      "4            4     69  10   12        45.0     Louie   McDuck        95   \n",
      "5            5     84  10   12        45.0     Louie   McDuck        87   \n",
      "6            6     10  11   34        60.0     Henry      Nam        78   \n",
      "7            7     25  11   34        60.0     Henry      Nam        75   \n",
      "8            8     40  11   34        60.0     Henry      Nam        72   \n",
      "9            9     11  12   34        74.0    Michel     Long        65   \n",
      "10          10     26  12   34        74.0    Michel     Long        67   \n",
      "11          11     41  12   34        74.0    Michel     Long        55   \n",
      "12          12     57  13   34        74.0      Tana    Ricky        68   \n",
      "13          13     72  13   34        74.0      Tana    Ricky        72   \n",
      "14          14     87  13   34        74.0      Tana    Ricky        70   \n",
      "15          15     59  15   52        81.0   Unknown  Unknown        68   \n",
      "16          16     74  15   52        81.0   Unknown  Unknown        75   \n",
      "17          17     89  15   52        81.0   Unknown  Unknown        72   \n",
      "18          18     47   2   34        70.0    Donald     Duck        85   \n",
      "19          19     62   2   34        70.0    Donald     Duck        84   \n",
      "20          20     77   2   34        70.0    Donald     Duck        76   \n",
      "21          21     48   3   16        74.0      Mini    Mouse        65   \n",
      "22          22     63   3   16        74.0      Mini    Mouse        69   \n",
      "23          23     78   3   16        74.0      Mini    Mouse        72   \n",
      "24          24      4   4   34        78.0   Scrooge   McDuck        78   \n",
      "25          25     19   4   34        78.0   Scrooge   McDuck        79   \n",
      "26          26     34   4   34        78.0   Scrooge   McDuck        72   \n",
      "27          27     50   5   54        90.0      Pink  Panther        69   \n",
      "28          28     80   5   54        90.0      Pink  Panther        75   \n",
      "29          29     51   6   52        85.0      Huey   McDuck        68   \n",
      "30          30     66   6   52        85.0      Huey   McDuck        75   \n",
      "31          31     81   6   52        85.0      Huey   McDuck        72   \n",
      "32          32     52   7   19        56.0     Dewey   McDuck        71   \n",
      "33          33     67   7   19        56.0     Dewey   McDuck        78   \n",
      "34          34     82   7   19        56.0     Dewey   McDuck        75   \n",
      "35          35      8   8   32        78.0      Scpy      Doo        78   \n",
      "36          36     23   8   32        78.0      Scpy      Doo        76   \n",
      "37          37     38   8   32        78.0      Scpy      Doo        75   \n",
      "38          38      0  Id  Age        74.0      Name  Unknown     m0006   \n",
      "39          39     15  Id  Age        74.0      Name  Unknown     m0612   \n",
      "40          40     30  Id  Age        74.0      Name  Unknown     m1218   \n",
      "41          41     45  Id  Age        74.0      Name  Unknown     f0006   \n",
      "42          42     60  Id  Age        74.0      Name  Unknown     f0612   \n",
      "43          43     75  Id  Age        74.0      Name  Unknown     f1218   \n",
      "\n",
      "   Gender  Lower_hour  Upper_hour  \n",
      "0       m           0           6  \n",
      "1       m           6          12  \n",
      "2       m          12          18  \n",
      "3       f           0           6  \n",
      "4       f           6          12  \n",
      "5       f          12          18  \n",
      "6       m           0           6  \n",
      "7       m           6          12  \n",
      "8       m          12          18  \n",
      "9       m           0           6  \n",
      "10      m           6          12  \n",
      "11      m          12          18  \n",
      "12      f           0           6  \n",
      "13      f           6          12  \n",
      "14      f          12          18  \n",
      "15      f           0           6  \n",
      "16      f           6          12  \n",
      "17      f          12          18  \n",
      "18      f           0           6  \n",
      "19      f           6          12  \n",
      "20      f          12          18  \n",
      "21      f           0           6  \n",
      "22      f           6          12  \n",
      "23      f          12          18  \n",
      "24      m           0           6  \n",
      "25      m           6          12  \n",
      "26      m          12          18  \n",
      "27      f           0           6  \n",
      "28      f          12          18  \n",
      "29      f           0           6  \n",
      "30      f           6          12  \n",
      "31      f          12          18  \n",
      "32      f           0           6  \n",
      "33      f           6          12  \n",
      "34      f          12          18  \n",
      "35      m           0           6  \n",
      "36      m           6          12  \n",
      "37      m          12          18  \n",
      "38      m           0           6  \n",
      "39      m           6          12  \n",
      "40      m          12          18  \n",
      "41      f           0           6  \n",
      "42      f           6          12  \n",
      "43      f          12          18  \n"
     ]
    }
   ],
   "source": [
    "print(\"Duplicate rows based on 'Id':\")\n",
    "print(duplicates)"
   ]
  },
  {
   "cell_type": "code",
   "execution_count": 130,
   "metadata": {},
   "outputs": [],
   "source": [
    "df_grouped = df.groupby('Id', as_index=False).mean()"
   ]
  },
  {
   "cell_type": "code",
   "execution_count": 131,
   "metadata": {},
   "outputs": [
    {
     "name": "stdout",
     "output_type": "stream",
     "text": [
      "Data after handling duplicates:\n",
      "   Id  Unnamed: 0  index  Weight_kgs  Lower_hour  Upper_hour\n",
      "0   1         1.0   16.0        70.0         6.0        12.0\n",
      "1  10         4.0   69.0        45.0         6.0        12.0\n",
      "2  11         7.0   25.0        60.0         6.0        12.0\n",
      "3  12        10.0   26.0        74.0         6.0        12.0\n",
      "4  13        13.0   72.0        74.0         6.0        12.0\n"
     ]
    }
   ],
   "source": [
    "print(\"Data after handling duplicates:\")\n",
    "print(df_grouped.head())"
   ]
  },
  {
   "cell_type": "code",
   "execution_count": 132,
   "metadata": {},
   "outputs": [],
   "source": [
    "df_grouped.to_csv('cleaned_patient_data.csv', index=False)"
   ]
  },
  {
   "cell_type": "code",
   "execution_count": 133,
   "metadata": {},
   "outputs": [
    {
     "data": {
      "image/png": "[encoded data removed]",
      "text/plain": [
       "<Figure size 576x576 with 1 Axes>"
      ]
     },
     "metadata": {},
     "output_type": "display_data"
    }
   ],
   "source": [
    "import matplotlib.pyplot as plt\n",
    "plt.figure(figsize=(8, 8))\n",
    "plt.pie(gender_counts, labels=gender_counts.index, autopct='%1.1f%%', startangle=140, colors=['#ff9999','#66b3ff'])\n",
    "\n",
    "# Thêm tiêu đề\n",
    "plt.title('Tỉ lệ bệnh nhân nam và nữ')\n",
    "\n",
    "# Hiển thị biểu đồ\n",
    "plt.show()"
   ]
  },
  {
   "cell_type": "code",
   "execution_count": 134,
   "metadata": {},
   "outputs": [],
   "source": [
    "df = pd.read_csv('patient_heart_rate_clean.csv')"
   ]
  },
  {
   "cell_type": "code",
   "execution_count": 135,
   "metadata": {},
   "outputs": [
    {
     "data": {
      "text/html": [
       "<div>\n",
       "<style scoped>\n",
       "    .dataframe tbody tr th:only-of-type {\n",
       "        vertical-align: middle;\n",
       "    }\n",
       "\n",
       "    .dataframe tbody tr th {\n",
       "        vertical-align: top;\n",
       "    }\n",
       "\n",
       "    .dataframe thead th {\n",
       "        text-align: right;\n",
       "    }\n",
       "</style>\n",
       "<table border=\"1\" class=\"dataframe\">\n",
       "  <thead>\n",
       "    <tr style=\"text-align: right;\">\n",
       "      <th></th>\n",
       "      <th>Unnamed: 0</th>\n",
       "      <th>index</th>\n",
       "      <th>Id</th>\n",
       "      <th>Age</th>\n",
       "      <th>Weight_kgs</th>\n",
       "      <th>Firstname</th>\n",
       "      <th>Lastname</th>\n",
       "      <th>PulseRate</th>\n",
       "      <th>Gender</th>\n",
       "      <th>Lower_hour</th>\n",
       "      <th>Upper_hour</th>\n",
       "    </tr>\n",
       "  </thead>\n",
       "  <tbody>\n",
       "    <tr>\n",
       "      <th>0</th>\n",
       "      <td>0</td>\n",
       "      <td>1</td>\n",
       "      <td>1</td>\n",
       "      <td>56</td>\n",
       "      <td>70.0</td>\n",
       "      <td>Micky</td>\n",
       "      <td>Mous</td>\n",
       "      <td>72</td>\n",
       "      <td>m</td>\n",
       "      <td>0</td>\n",
       "      <td>6</td>\n",
       "    </tr>\n",
       "    <tr>\n",
       "      <th>1</th>\n",
       "      <td>1</td>\n",
       "      <td>16</td>\n",
       "      <td>1</td>\n",
       "      <td>56</td>\n",
       "      <td>70.0</td>\n",
       "      <td>Micky</td>\n",
       "      <td>Mous</td>\n",
       "      <td>69</td>\n",
       "      <td>m</td>\n",
       "      <td>6</td>\n",
       "      <td>12</td>\n",
       "    </tr>\n",
       "    <tr>\n",
       "      <th>2</th>\n",
       "      <td>2</td>\n",
       "      <td>31</td>\n",
       "      <td>1</td>\n",
       "      <td>56</td>\n",
       "      <td>70.0</td>\n",
       "      <td>Micky</td>\n",
       "      <td>Mous</td>\n",
       "      <td>71</td>\n",
       "      <td>m</td>\n",
       "      <td>12</td>\n",
       "      <td>18</td>\n",
       "    </tr>\n",
       "    <tr>\n",
       "      <th>3</th>\n",
       "      <td>3</td>\n",
       "      <td>54</td>\n",
       "      <td>10</td>\n",
       "      <td>12</td>\n",
       "      <td>45.0</td>\n",
       "      <td>Louie</td>\n",
       "      <td>McDuck</td>\n",
       "      <td>92</td>\n",
       "      <td>f</td>\n",
       "      <td>0</td>\n",
       "      <td>6</td>\n",
       "    </tr>\n",
       "    <tr>\n",
       "      <th>4</th>\n",
       "      <td>4</td>\n",
       "      <td>69</td>\n",
       "      <td>10</td>\n",
       "      <td>12</td>\n",
       "      <td>45.0</td>\n",
       "      <td>Louie</td>\n",
       "      <td>McDuck</td>\n",
       "      <td>95</td>\n",
       "      <td>f</td>\n",
       "      <td>6</td>\n",
       "      <td>12</td>\n",
       "    </tr>\n",
       "    <tr>\n",
       "      <th>5</th>\n",
       "      <td>5</td>\n",
       "      <td>84</td>\n",
       "      <td>10</td>\n",
       "      <td>12</td>\n",
       "      <td>45.0</td>\n",
       "      <td>Louie</td>\n",
       "      <td>McDuck</td>\n",
       "      <td>87</td>\n",
       "      <td>f</td>\n",
       "      <td>12</td>\n",
       "      <td>18</td>\n",
       "    </tr>\n",
       "    <tr>\n",
       "      <th>6</th>\n",
       "      <td>6</td>\n",
       "      <td>10</td>\n",
       "      <td>11</td>\n",
       "      <td>34</td>\n",
       "      <td>60.0</td>\n",
       "      <td>Henry</td>\n",
       "      <td>Nam</td>\n",
       "      <td>78</td>\n",
       "      <td>m</td>\n",
       "      <td>0</td>\n",
       "      <td>6</td>\n",
       "    </tr>\n",
       "    <tr>\n",
       "      <th>7</th>\n",
       "      <td>7</td>\n",
       "      <td>25</td>\n",
       "      <td>11</td>\n",
       "      <td>34</td>\n",
       "      <td>60.0</td>\n",
       "      <td>Henry</td>\n",
       "      <td>Nam</td>\n",
       "      <td>75</td>\n",
       "      <td>m</td>\n",
       "      <td>6</td>\n",
       "      <td>12</td>\n",
       "    </tr>\n",
       "    <tr>\n",
       "      <th>8</th>\n",
       "      <td>8</td>\n",
       "      <td>40</td>\n",
       "      <td>11</td>\n",
       "      <td>34</td>\n",
       "      <td>60.0</td>\n",
       "      <td>Henry</td>\n",
       "      <td>Nam</td>\n",
       "      <td>72</td>\n",
       "      <td>m</td>\n",
       "      <td>12</td>\n",
       "      <td>18</td>\n",
       "    </tr>\n",
       "    <tr>\n",
       "      <th>9</th>\n",
       "      <td>9</td>\n",
       "      <td>11</td>\n",
       "      <td>12</td>\n",
       "      <td>34</td>\n",
       "      <td>74.0</td>\n",
       "      <td>Michel</td>\n",
       "      <td>Long</td>\n",
       "      <td>65</td>\n",
       "      <td>m</td>\n",
       "      <td>0</td>\n",
       "      <td>6</td>\n",
       "    </tr>\n",
       "  </tbody>\n",
       "</table>\n",
       "</div>"
      ],
      "text/plain": [
       "   Unnamed: 0  index  Id Age  Weight_kgs Firstname Lastname PulseRate Gender  \\\n",
       "0           0      1   1  56        70.0     Micky     Mous        72      m   \n",
       "1           1     16   1  56        70.0     Micky     Mous        69      m   \n",
       "2           2     31   1  56        70.0     Micky     Mous        71      m   \n",
       "3           3     54  10  12        45.0     Louie   McDuck        92      f   \n",
       "4           4     69  10  12        45.0     Louie   McDuck        95      f   \n",
       "5           5     84  10  12        45.0     Louie   McDuck        87      f   \n",
       "6           6     10  11  34        60.0     Henry      Nam        78      m   \n",
       "7           7     25  11  34        60.0     Henry      Nam        75      m   \n",
       "8           8     40  11  34        60.0     Henry      Nam        72      m   \n",
       "9           9     11  12  34        74.0    Michel     Long        65      m   \n",
       "\n",
       "   Lower_hour  Upper_hour  \n",
       "0           0           6  \n",
       "1           6          12  \n",
       "2          12          18  \n",
       "3           0           6  \n",
       "4           6          12  \n",
       "5          12          18  \n",
       "6           0           6  \n",
       "7           6          12  \n",
       "8          12          18  \n",
       "9           0           6  "
      ]
     },
     "execution_count": 135,
     "metadata": {},
     "output_type": "execute_result"
    }
   ],
   "source": [
    "df.head(10)"
   ]
  },
  {
   "cell_type": "code",
   "execution_count": 136,
   "metadata": {},
   "outputs": [],
   "source": [
    "df['Fullname'] = df['Firstname'] + ' ' + df['Lastname']"
   ]
  },
  {
   "cell_type": "code",
   "execution_count": 137,
   "metadata": {},
   "outputs": [
    {
     "data": {
      "text/html": [
       "<div>\n",
       "<style scoped>\n",
       "    .dataframe tbody tr th:only-of-type {\n",
       "        vertical-align: middle;\n",
       "    }\n",
       "\n",
       "    .dataframe tbody tr th {\n",
       "        vertical-align: top;\n",
       "    }\n",
       "\n",
       "    .dataframe thead th {\n",
       "        text-align: right;\n",
       "    }\n",
       "</style>\n",
       "<table border=\"1\" class=\"dataframe\">\n",
       "  <thead>\n",
       "    <tr style=\"text-align: right;\">\n",
       "      <th></th>\n",
       "      <th>Unnamed: 0</th>\n",
       "      <th>index</th>\n",
       "      <th>Id</th>\n",
       "      <th>Age</th>\n",
       "      <th>Weight_kgs</th>\n",
       "      <th>Firstname</th>\n",
       "      <th>Lastname</th>\n",
       "      <th>PulseRate</th>\n",
       "      <th>Gender</th>\n",
       "      <th>Lower_hour</th>\n",
       "      <th>Upper_hour</th>\n",
       "      <th>Fullname</th>\n",
       "    </tr>\n",
       "  </thead>\n",
       "  <tbody>\n",
       "    <tr>\n",
       "      <th>0</th>\n",
       "      <td>0</td>\n",
       "      <td>1</td>\n",
       "      <td>1</td>\n",
       "      <td>56</td>\n",
       "      <td>70.0</td>\n",
       "      <td>Micky</td>\n",
       "      <td>Mous</td>\n",
       "      <td>72</td>\n",
       "      <td>m</td>\n",
       "      <td>0</td>\n",
       "      <td>6</td>\n",
       "      <td>Micky Mous</td>\n",
       "    </tr>\n",
       "    <tr>\n",
       "      <th>1</th>\n",
       "      <td>1</td>\n",
       "      <td>16</td>\n",
       "      <td>1</td>\n",
       "      <td>56</td>\n",
       "      <td>70.0</td>\n",
       "      <td>Micky</td>\n",
       "      <td>Mous</td>\n",
       "      <td>69</td>\n",
       "      <td>m</td>\n",
       "      <td>6</td>\n",
       "      <td>12</td>\n",
       "      <td>Micky Mous</td>\n",
       "    </tr>\n",
       "    <tr>\n",
       "      <th>2</th>\n",
       "      <td>2</td>\n",
       "      <td>31</td>\n",
       "      <td>1</td>\n",
       "      <td>56</td>\n",
       "      <td>70.0</td>\n",
       "      <td>Micky</td>\n",
       "      <td>Mous</td>\n",
       "      <td>71</td>\n",
       "      <td>m</td>\n",
       "      <td>12</td>\n",
       "      <td>18</td>\n",
       "      <td>Micky Mous</td>\n",
       "    </tr>\n",
       "    <tr>\n",
       "      <th>3</th>\n",
       "      <td>3</td>\n",
       "      <td>54</td>\n",
       "      <td>10</td>\n",
       "      <td>12</td>\n",
       "      <td>45.0</td>\n",
       "      <td>Louie</td>\n",
       "      <td>McDuck</td>\n",
       "      <td>92</td>\n",
       "      <td>f</td>\n",
       "      <td>0</td>\n",
       "      <td>6</td>\n",
       "      <td>Louie McDuck</td>\n",
       "    </tr>\n",
       "    <tr>\n",
       "      <th>4</th>\n",
       "      <td>4</td>\n",
       "      <td>69</td>\n",
       "      <td>10</td>\n",
       "      <td>12</td>\n",
       "      <td>45.0</td>\n",
       "      <td>Louie</td>\n",
       "      <td>McDuck</td>\n",
       "      <td>95</td>\n",
       "      <td>f</td>\n",
       "      <td>6</td>\n",
       "      <td>12</td>\n",
       "      <td>Louie McDuck</td>\n",
       "    </tr>\n",
       "    <tr>\n",
       "      <th>5</th>\n",
       "      <td>5</td>\n",
       "      <td>84</td>\n",
       "      <td>10</td>\n",
       "      <td>12</td>\n",
       "      <td>45.0</td>\n",
       "      <td>Louie</td>\n",
       "      <td>McDuck</td>\n",
       "      <td>87</td>\n",
       "      <td>f</td>\n",
       "      <td>12</td>\n",
       "      <td>18</td>\n",
       "      <td>Louie McDuck</td>\n",
       "    </tr>\n",
       "    <tr>\n",
       "      <th>6</th>\n",
       "      <td>6</td>\n",
       "      <td>10</td>\n",
       "      <td>11</td>\n",
       "      <td>34</td>\n",
       "      <td>60.0</td>\n",
       "      <td>Henry</td>\n",
       "      <td>Nam</td>\n",
       "      <td>78</td>\n",
       "      <td>m</td>\n",
       "      <td>0</td>\n",
       "      <td>6</td>\n",
       "      <td>Henry Nam</td>\n",
       "    </tr>\n",
       "    <tr>\n",
       "      <th>7</th>\n",
       "      <td>7</td>\n",
       "      <td>25</td>\n",
       "      <td>11</td>\n",
       "      <td>34</td>\n",
       "      <td>60.0</td>\n",
       "      <td>Henry</td>\n",
       "      <td>Nam</td>\n",
       "      <td>75</td>\n",
       "      <td>m</td>\n",
       "      <td>6</td>\n",
       "      <td>12</td>\n",
       "      <td>Henry Nam</td>\n",
       "    </tr>\n",
       "    <tr>\n",
       "      <th>8</th>\n",
       "      <td>8</td>\n",
       "      <td>40</td>\n",
       "      <td>11</td>\n",
       "      <td>34</td>\n",
       "      <td>60.0</td>\n",
       "      <td>Henry</td>\n",
       "      <td>Nam</td>\n",
       "      <td>72</td>\n",
       "      <td>m</td>\n",
       "      <td>12</td>\n",
       "      <td>18</td>\n",
       "      <td>Henry Nam</td>\n",
       "    </tr>\n",
       "    <tr>\n",
       "      <th>9</th>\n",
       "      <td>9</td>\n",
       "      <td>11</td>\n",
       "      <td>12</td>\n",
       "      <td>34</td>\n",
       "      <td>74.0</td>\n",
       "      <td>Michel</td>\n",
       "      <td>Long</td>\n",
       "      <td>65</td>\n",
       "      <td>m</td>\n",
       "      <td>0</td>\n",
       "      <td>6</td>\n",
       "      <td>Michel Long</td>\n",
       "    </tr>\n",
       "  </tbody>\n",
       "</table>\n",
       "</div>"
      ],
      "text/plain": [
       "   Unnamed: 0  index  Id Age  Weight_kgs Firstname Lastname PulseRate Gender  \\\n",
       "0           0      1   1  56        70.0     Micky     Mous        72      m   \n",
       "1           1     16   1  56        70.0     Micky     Mous        69      m   \n",
       "2           2     31   1  56        70.0     Micky     Mous        71      m   \n",
       "3           3     54  10  12        45.0     Louie   McDuck        92      f   \n",
       "4           4     69  10  12        45.0     Louie   McDuck        95      f   \n",
       "5           5     84  10  12        45.0     Louie   McDuck        87      f   \n",
       "6           6     10  11  34        60.0     Henry      Nam        78      m   \n",
       "7           7     25  11  34        60.0     Henry      Nam        75      m   \n",
       "8           8     40  11  34        60.0     Henry      Nam        72      m   \n",
       "9           9     11  12  34        74.0    Michel     Long        65      m   \n",
       "\n",
       "   Lower_hour  Upper_hour      Fullname  \n",
       "0           0           6    Micky Mous  \n",
       "1           6          12    Micky Mous  \n",
       "2          12          18    Micky Mous  \n",
       "3           0           6  Louie McDuck  \n",
       "4           6          12  Louie McDuck  \n",
       "5          12          18  Louie McDuck  \n",
       "6           0           6     Henry Nam  \n",
       "7           6          12     Henry Nam  \n",
       "8          12          18     Henry Nam  \n",
       "9           0           6   Michel Long  "
      ]
     },
     "execution_count": 137,
     "metadata": {},
     "output_type": "execute_result"
    }
   ],
   "source": [
    "df.head(10)"
   ]
  },
  {
   "cell_type": "code",
   "execution_count": 138,
   "metadata": {},
   "outputs": [],
   "source": [
    "#Cau 3:Vẽ biểu đồ cột so sánh độ tuổi giữa các tên bệnh nhân"
   ]
  },
  {
   "cell_type": "code",
   "execution_count": 139,
   "metadata": {},
   "outputs": [],
   "source": [
    "df['Fullname'] = df['Firstname'] + ' ' + df['Lastname']"
   ]
  },
  {
   "cell_type": "code",
   "execution_count": 140,
   "metadata": {},
   "outputs": [],
   "source": [
    "df['Age'] = pd.to_numeric(df['Age'], errors='coerce')\n",
    "df_cleaned = df[['Fullname', 'Age']].dropna().drop_duplicates()"
   ]
  },
  {
   "cell_type": "code",
   "execution_count": 141,
   "metadata": {},
   "outputs": [],
   "source": [
    "df_unique = df[['Fullname', 'Age']].drop_duplicates()"
   ]
  },
  {
   "cell_type": "code",
   "execution_count": 142,
   "metadata": {},
   "outputs": [
    {
     "data": {
      "image/png": "[encoded data removed]",
      "text/plain": [
       "<Figure size 720x432 with 1 Axes>"
      ]
     },
     "metadata": {
      "needs_background": "light"
     },
     "output_type": "display_data"
    }
   ],
   "source": [
    "import matplotlib.pyplot as plt\n",
    "if df_cleaned.empty:\n",
    "    print(\"Error: No valid data to plot after cleaning. Please check your input data.\")\n",
    "else:\n",
    "    # Plotting the bar chart\n",
    "    plt.figure(figsize=(10, 6))\n",
    "    plt.bar(df_cleaned['Fullname'], df_cleaned['Age'], color='skyblue')\n",
    "    plt.xlabel('Patient Name')\n",
    "    plt.ylabel('Age')\n",
    "    plt.title('Comparison of Ages Among Patients')\n",
    "    plt.xticks(rotation=45, ha='right')\n",
    "    plt.tight_layout()\n",
    "\n",
    "    # Show the plot\n",
    "    plt.show()"
   ]
  },
  {
   "cell_type": "code",
   "execution_count": 143,
   "metadata": {},
   "outputs": [],
   "source": [
    "# Cau 4: Vẽ biểu đồ cột so sánh nhịp tim trung bình giữa các tên bệnh nhân"
   ]
  },
  {
   "cell_type": "code",
   "execution_count": 144,
   "metadata": {},
   "outputs": [],
   "source": [
    "df['Fullname'] = df['Firstname'] + ' ' + df['Lastname']"
   ]
  },
  {
   "cell_type": "code",
   "execution_count": 145,
   "metadata": {},
   "outputs": [],
   "source": [
    "df['PulseRate'] = pd.to_numeric(df['PulseRate'], errors='coerce')"
   ]
  },
  {
   "cell_type": "code",
   "execution_count": 146,
   "metadata": {},
   "outputs": [],
   "source": [
    "avg_pulse_rate = df.groupby('Fullname')['PulseRate'].mean().reset_index()"
   ]
  },
  {
   "cell_type": "code",
   "execution_count": 147,
   "metadata": {},
   "outputs": [
    {
     "data": {
      "image/png": "[encoded data removed]",
      "text/plain": [
       "<Figure size 720x432 with 1 Axes>"
      ]
     },
     "metadata": {
      "needs_background": "light"
     },
     "output_type": "display_data"
    }
   ],
   "source": [
    "if avg_pulse_rate.empty:\n",
    "    print(\"Error: No valid data to plot. Please check your input data.\")\n",
    "else:\n",
    "    # Plotting the bar chart for average PulseRate\n",
    "    plt.figure(figsize=(10, 6))\n",
    "    plt.bar(avg_pulse_rate['Fullname'], avg_pulse_rate['PulseRate'], color='skyblue')\n",
    "    plt.xlabel('Patient Name')\n",
    "    plt.ylabel('Average Pulse Rate')\n",
    "    plt.title('Comparison of Average Pulse Rate Among Patients')\n",
    "    plt.xticks(rotation=45, ha='right')\n",
    "    plt.tight_layout()\n",
    "\n",
    "    # Show the plot\n",
    "    plt.show()"
   ]
  },
  {
   "cell_type": "code",
   "execution_count": 148,
   "metadata": {},
   "outputs": [],
   "source": [
    "#Cau 5:Vẽ biểu đồ cột so sánh nhịp tim trung bình theo từng nhóm giờ 00-06, 06-12,12-18 có phân loại theo giới tính"
   ]
  },
  {
   "cell_type": "code",
   "execution_count": 149,
   "metadata": {},
   "outputs": [],
   "source": [
    "df['PulseRate'] = pd.to_numeric(df['PulseRate'], errors='coerce')"
   ]
  },
  {
   "cell_type": "code",
   "execution_count": 150,
   "metadata": {},
   "outputs": [],
   "source": [
    "time_gender_pulse = df.groupby(['Lower_hour', 'Gender'])['PulseRate'].mean().reset_index()"
   ]
  },
  {
   "cell_type": "code",
   "execution_count": 151,
   "metadata": {},
   "outputs": [],
   "source": [
    "time_labels = {0: '00-06', 6: '06-12', 12: '12-18'}"
   ]
  },
  {
   "cell_type": "code",
   "execution_count": 152,
   "metadata": {},
   "outputs": [],
   "source": [
    "time_gender_pulse['Time Interval'] = time_gender_pulse['Lower_hour'].map(time_labels)"
   ]
  },
  {
   "cell_type": "code",
   "execution_count": 153,
   "metadata": {},
   "outputs": [],
   "source": [
    "pivot_df = time_gender_pulse.pivot(index='Time Interval', columns='Gender', values='PulseRate')"
   ]
  },
  {
   "cell_type": "code",
   "execution_count": 154,
   "metadata": {},
   "outputs": [
    {
     "data": {
      "image/png": "[encoded data removed]",
      "text/plain": [
       "<Figure size 720x432 with 1 Axes>"
      ]
     },
     "metadata": {
      "needs_background": "light"
     },
     "output_type": "display_data"
    }
   ],
   "source": [
    "pivot_df.plot(kind='bar', figsize=(10, 6), color=['skyblue', 'orange'])\n",
    "plt.xlabel('Time Interval')\n",
    "plt.ylabel('Average Pulse Rate')\n",
    "plt.title('Comparison of Average Pulse Rate by Time Interval and Gender')\n",
    "plt.xticks(rotation=0)\n",
    "plt.tight_layout()\n",
    "\n",
    "# Show the plot\n",
    "plt.show()"
   ]
  },
  {
   "cell_type": "code",
   "execution_count": 155,
   "metadata": {},
   "outputs": [],
   "source": [
    "#Cau 6: Vẽ biểu đồ phân tán thể hiện tương quan giữa trung bình độ tuổi và trung bình nhịp tim"
   ]
  },
  {
   "cell_type": "code",
   "execution_count": 156,
   "metadata": {},
   "outputs": [],
   "source": [
    "df['Age'] = pd.to_numeric(df['Age'], errors='coerce')\n",
    "df['PulseRate'] = pd.to_numeric(df['PulseRate'], errors='coerce')"
   ]
  },
  {
   "cell_type": "code",
   "execution_count": 157,
   "metadata": {},
   "outputs": [],
   "source": [
    "avg_stats = df.groupby('Id').agg({'Age': 'mean', 'PulseRate': 'mean'}).reset_index()"
   ]
  },
  {
   "cell_type": "code",
   "execution_count": 158,
   "metadata": {},
   "outputs": [
    {
     "data": {
      "image/png": "[encoded data removed]",
      "text/plain": [
       "<Figure size 720x432 with 1 Axes>"
      ]
     },
     "metadata": {
      "needs_background": "light"
     },
     "output_type": "display_data"
    }
   ],
   "source": [
    "if avg_stats.empty:\n",
    "    print(\"Error: No valid data to plot. Please check your input data.\")\n",
    "else:\n",
    "    # Plotting the scatter plot for average Age and average PulseRate\n",
    "    plt.figure(figsize=(10, 6))\n",
    "    plt.scatter(avg_stats['Age'], avg_stats['PulseRate'], color='skyblue', alpha=0.7)\n",
    "    plt.xlabel('Average Age')\n",
    "    plt.ylabel('Average Pulse Rate')\n",
    "    plt.title('Correlation Between Average Age and Average Pulse Rate')\n",
    "    plt.grid(True)\n",
    "\n",
    "    # Show the plot\n",
    "    plt.show()"
   ]
  },
  {
   "cell_type": "code",
   "execution_count": 159,
   "metadata": {},
   "outputs": [],
   "source": [
    "#Cau 7:Vẽ biểu đồ đường thể hiện sự thay đổi của nhịp tim trung bình các bệnh nhân theo thứ tự khung giờ 00-06, 06-12,12-18 theo từng nhóm giới tính."
   ]
  },
  {
   "cell_type": "code",
   "execution_count": 160,
   "metadata": {},
   "outputs": [],
   "source": [
    "df['PulseRate'] = pd.to_numeric(df['PulseRate'], errors='coerce')"
   ]
  },
  {
   "cell_type": "code",
   "execution_count": 161,
   "metadata": {},
   "outputs": [],
   "source": [
    "time_gender_pulse = df.groupby(['Lower_hour', 'Gender'])['PulseRate'].mean().reset_index()"
   ]
  },
  {
   "cell_type": "code",
   "execution_count": 162,
   "metadata": {},
   "outputs": [],
   "source": [
    "time_labels = {0: '00-06', 6: '06-12', 12: '12-18'}"
   ]
  },
  {
   "cell_type": "code",
   "execution_count": 163,
   "metadata": {},
   "outputs": [],
   "source": [
    "time_gender_pulse['Time Interval'] = time_gender_pulse['Lower_hour'].map(time_labels)"
   ]
  },
  {
   "cell_type": "code",
   "execution_count": 164,
   "metadata": {},
   "outputs": [],
   "source": [
    "time_gender_pulse.sort_values(by='Lower_hour', inplace=True)"
   ]
  },
  {
   "cell_type": "code",
   "execution_count": 165,
   "metadata": {},
   "outputs": [],
   "source": [
    "male_data = time_gender_pulse[time_gender_pulse['Gender'] == 'm']\n",
    "female_data = time_gender_pulse[time_gender_pulse['Gender'] == 'f']"
   ]
  },
  {
   "cell_type": "code",
   "execution_count": 166,
   "metadata": {},
   "outputs": [
    {
     "data": {
      "image/png": "[encoded data removed]",
      "text/plain": [
       "<Figure size 720x432 with 1 Axes>"
      ]
     },
     "metadata": {
      "needs_background": "light"
     },
     "output_type": "display_data"
    }
   ],
   "source": [
    "plt.figure(figsize=(10, 6))\n",
    "\n",
    "plt.plot(male_data['Time Interval'], male_data['PulseRate'], marker='o', linestyle='-', color='blue', label='Male')\n",
    "plt.plot(female_data['Time Interval'], female_data['PulseRate'], marker='o', linestyle='-', color='red', label='Female')\n",
    "\n",
    "plt.xlabel('Time Interval')\n",
    "plt.ylabel('Average Pulse Rate')\n",
    "plt.title('Change in Average Pulse Rate by Time Interval and Gender')\n",
    "plt.legend()\n",
    "plt.grid(True)\n",
    "plt.tight_layout()\n",
    "\n",
    "# Show the plot\n",
    "plt.show()"
   ]
  }
 ],
 "metadata": {
  "kernelspec": {
   "display_name": "Python 3.8.5 64-bit ('ProgramData': virtualenv)",
   "metadata": {
    "interpreter": {
     "hash": "b3ba2566441a7c06988d0923437866b63cedc61552a5af99d1f4fb67d367b25f"
    }
   },
   "name": "python3"
  },
  "language_info": {
   "codemirror_mode": {
    "name": "ipython",
    "version": 3
   },
   "file_extension": ".py",
   "mimetype": "text/x-python",
   "name": "python",
   "nbconvert_exporter": "python",
   "pygments_lexer": "ipython3",
   "version": "3.8.5"
  },
  "orig_nbformat": 2
 },
 "nbformat": 4,
 "nbformat_minor": 2
}
